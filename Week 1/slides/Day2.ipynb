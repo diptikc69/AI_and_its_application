{
  "nbformat": 4,
  "nbformat_minor": 0,
  "metadata": {
    "colab": {
      "provenance": []
    },
    "kernelspec": {
      "name": "python3",
      "display_name": "Python 3"
    },
    "language_info": {
      "name": "python"
    }
  },
  "cells": [
    {
      "cell_type": "markdown",
      "source": [
        "# **Day-2 Practical**"
      ],
      "metadata": {
        "id": "9p5wBRbEHXxQ"
      }
    },
    {
      "cell_type": "code",
      "source": [
        "print(\"Python is easy \")"
      ],
      "metadata": {
        "colab": {
          "base_uri": "https://localhost:8080/"
        },
        "id": "WYDfJwxkHvDY",
        "outputId": "0ab2a3c8-802e-4c63-ba5f-ad60a03c9f37"
      },
      "execution_count": 1,
      "outputs": [
        {
          "output_type": "stream",
          "name": "stdout",
          "text": [
            "Python is easy \n"
          ]
        }
      ]
    },
    {
      "cell_type": "markdown",
      "source": [
        "#**LISTS IN PYTHON**"
      ],
      "metadata": {
        "id": "O-HSU5TIIynG"
      }
    },
    {
      "cell_type": "code",
      "source": [
        "#Creating a list called 'fruits'\n",
        "fruits = [\"apple\", \"banana\", \"mango\", \"Litchi\", \"straberry\"]\n",
        "\n",
        "#Print the list\n",
        "# print(fruits)\n",
        "\n",
        "# print(fruits[0]) #printing first element from the list\n",
        "# print(fruits[4])\n",
        "# print(fruits[-1])\n",
        "\n",
        "#Adding and removing elements\n",
        "# fruits.append(\"jackfruit\")\n",
        "# print(fruits)\n",
        "\n",
        "# fruits.remove(\"Litchi\")    #Removing element\n",
        "# print(fruits)\n",
        "\n",
        "#Slicing the list\n",
        "print(fruits[1:4])\n",
        "# print(fruits[starting index : final index-1])\n"
      ],
      "metadata": {
        "colab": {
          "base_uri": "https://localhost:8080/"
        },
        "id": "1VgYya9pI5KM",
        "outputId": "d373c5b5-89c7-41c8-cc62-42a27747b777"
      },
      "execution_count": 14,
      "outputs": [
        {
          "output_type": "stream",
          "name": "stdout",
          "text": [
            "['banana', 'mango', 'Litchi']\n"
          ]
        }
      ]
    },
    {
      "cell_type": "markdown",
      "source": [
        "#TUPLES AND SETS(HOME-RESEARCH)"
      ],
      "metadata": {
        "id": "nLd2XNcyL6uM"
      }
    },
    {
      "cell_type": "markdown",
      "source": [
        "#DICTIONARIES IN PYTHON"
      ],
      "metadata": {
        "id": "_XBdnCMaMAbM"
      }
    },
    {
      "cell_type": "code",
      "source": [
        "#Creating a dictionary\n",
        "student = {\n",
        "    \"name\" : \"Ramu\",\n",
        "    \"age\"  : 13,\n",
        "    \"class\" : 8\n",
        "}\n",
        "# print(student)\n",
        "\n",
        "#Accessing value of a particluar key in a dictionary\n",
        "# print(student[\"age\"])\n",
        "\n",
        "# #updating value of a particular key in a dictionary\n",
        "student[\"class\"] = 9\n",
        "# print(student)\n",
        "\n",
        "#Adding a new key-value pair to existing dictionary\n",
        "student[\"address\"] = \"Pokhara\"\n",
        "print(student)\n",
        "\n",
        "#Deleting a key value\n",
        "del student[\"age\"]\n",
        "print(student)\n"
      ],
      "metadata": {
        "colab": {
          "base_uri": "https://localhost:8080/"
        },
        "id": "iY1GGUNgJMm_",
        "outputId": "d4d077ed-da29-454b-99b3-b356d3d534e7"
      },
      "execution_count": 21,
      "outputs": [
        {
          "output_type": "stream",
          "name": "stdout",
          "text": [
            "{'name': 'Ramu', 'age': 13, 'class': 9, 'address': 'Pokhara'}\n",
            "{'name': 'Ramu', 'class': 9, 'address': 'Pokhara'}\n"
          ]
        }
      ]
    },
    {
      "cell_type": "markdown",
      "source": [
        "#String Manipulation"
      ],
      "metadata": {
        "id": "luCzCQWBObCR"
      }
    },
    {
      "cell_type": "code",
      "source": [
        "#Creating a variable names \"text\" with leading and trailing spaces\n",
        "# text = \"  Hello Python  \"\n",
        "# print(text)\n",
        "\n",
        "# print(text.lower()) #Using .lower() function to convert original text into lowercase\n",
        "# print(text)\n",
        "# print(text.upper())\n",
        "# print(text)\n",
        "\n",
        "# print(text.strip())  #using .strip() function to remove leading and trailing spaces\n",
        "# print(text)\n",
        "\n",
        "\n",
        "# print(text.replace(\"Python\",\"Java\")) #using .replace() function to replace\n",
        "# print(text)\n",
        "\n",
        "#Split\n",
        "# splitted = text.strip().split()   #Function chaining or method chaining\n",
        "# print(splitted)\n",
        "\n",
        "# #Joining the splitted list with a hyphen(-)\n",
        "# joined = \"-\".join(splitted)\n",
        "# print(joined)\n",
        "\n",
        "text = \"python\"\n",
        "print(text[0].upper())\n",
        "\n"
      ],
      "metadata": {
        "colab": {
          "base_uri": "https://localhost:8080/"
        },
        "id": "gYI0uVT7MbCQ",
        "outputId": "b0252b4b-1395-46f2-b9d2-7427608a8f6f"
      },
      "execution_count": 34,
      "outputs": [
        {
          "output_type": "stream",
          "name": "stdout",
          "text": [
            "P\n"
          ]
        }
      ]
    },
    {
      "cell_type": "markdown",
      "source": [
        "#Modular Programming"
      ],
      "metadata": {
        "id": "96RTuiqqSbV7"
      }
    },
    {
      "cell_type": "code",
      "source": [
        "#importing math module\n",
        "import math\n",
        "\n",
        "square_root = math.sqrt(25)\n",
        "print(\"Square root of 25 is\", square_root)\n",
        "\n",
        "ceiling = math.ceil(3.2)\n",
        "print(\"Ceiling of 3.2 is\", ceiling)\n",
        "\n",
        "floor = math.floor(3.2)\n",
        "print(\"Floor of 3.2 is\", floor)\n",
        "# print(\"Square root of 36 is\", math.sqrt(36))"
      ],
      "metadata": {
        "colab": {
          "base_uri": "https://localhost:8080/"
        },
        "id": "tIsLhzCMO6Xb",
        "outputId": "9fd30bf7-ffa0-4059-8416-e1858ef8b08c"
      },
      "execution_count": 40,
      "outputs": [
        {
          "output_type": "stream",
          "name": "stdout",
          "text": [
            "Square root of 25 is 5.0\n",
            "Ceiling of 3.2 is 4\n",
            "Floor of 3.2 is 3\n"
          ]
        }
      ]
    },
    {
      "cell_type": "markdown",
      "source": [
        "#MODULE ALIASING"
      ],
      "metadata": {
        "id": "F43b84a1Uso4"
      }
    },
    {
      "cell_type": "code",
      "source": [
        "# import matplotlib.pyplot as plt\n",
        "# plt.plot([1,2,3],[4,5,6])"
      ],
      "metadata": {
        "id": "hJWNoWnwS4Ef"
      },
      "execution_count": 42,
      "outputs": []
    },
    {
      "cell_type": "markdown",
      "source": [
        "#VARIABLE ALIASING"
      ],
      "metadata": {
        "id": "HiaBtFY8VZ5O"
      }
    },
    {
      "cell_type": "code",
      "source": [
        "a = [1,2,3]\n",
        "b = a\n",
        "b.append(4)\n",
        "print(a)\n",
        "print(b)\n",
        "\n",
        "\n",
        "#HOMEWOR : EXPERIMENT WITH FUNCTION ALIASING"
      ],
      "metadata": {
        "id": "ahMpRLNGVOJt",
        "outputId": "8308741d-2815-4d36-9179-fffa0977bc43",
        "colab": {
          "base_uri": "https://localhost:8080/"
        }
      },
      "execution_count": 43,
      "outputs": [
        {
          "output_type": "stream",
          "name": "stdout",
          "text": [
            "[1, 2, 3, 4]\n",
            "[1, 2, 3, 4]\n"
          ]
        }
      ]
    },
    {
      "cell_type": "markdown",
      "source": [
        "#RANDOMS IN PYTHON"
      ],
      "metadata": {
        "id": "DZl5NqqsV7Y9"
      }
    },
    {
      "cell_type": "code",
      "source": [
        "import random as rdm   #importing random modules and aliasing as rd\n",
        "# print(rdm.randint(1,10))\n",
        "\n",
        "\n",
        "# random_float = rdm.random()\n",
        "# print(random_float)\n",
        "\n",
        "\n",
        "random_float_in_range = rdm.uniform(15.0,30.0)\n",
        "print(random_float_in_range)\n",
        "\n",
        "#HOMEWORK : EXPLORE MORE MODULES AND ITS FUNCTIONS/METHODS\n",
        "\n"
      ],
      "metadata": {
        "id": "mM6c4U_yV6vT",
        "outputId": "5f5aecee-7a69-40f5-d660-21983aa7e471",
        "colab": {
          "base_uri": "https://localhost:8080/"
        }
      },
      "execution_count": 54,
      "outputs": [
        {
          "output_type": "stream",
          "name": "stdout",
          "text": [
            "17.670236461212497\n"
          ]
        }
      ]
    },
    {
      "cell_type": "markdown",
      "source": [
        "#CREATING CUSTOM MODULES IN PYTHON"
      ],
      "metadata": {
        "id": "-HQPKYjUW6qi"
      }
    },
    {
      "cell_type": "code",
      "source": [
        "# %%writefile is used here to make this cell as a completely new .py file(No need to do if you are using VS Code)\n",
        "%%writefile helper.py\n",
        "#helper.py\n",
        "def add_numbers(a,b) :\n",
        "  return a+b\n",
        "\n",
        "# print(add_numbers(3,4))"
      ],
      "metadata": {
        "id": "Pr5DeYM1Vmc1",
        "outputId": "0205c013-1c77-4ac2-b1a4-dcdfa267828a",
        "colab": {
          "base_uri": "https://localhost:8080/"
        }
      },
      "execution_count": 56,
      "outputs": [
        {
          "output_type": "stream",
          "name": "stdout",
          "text": [
            "Writing helper.py\n"
          ]
        }
      ]
    },
    {
      "cell_type": "code",
      "source": [
        "# %%writefile main.py\n",
        "#main.py\n",
        "import helper\n",
        "result = helper.add_numbers(4,7)\n",
        "print(\"The sum is:\", result)"
      ],
      "metadata": {
        "id": "NtqH0cqnX3iX",
        "outputId": "8e087a2d-ca68-48ed-f694-9109f4275736",
        "colab": {
          "base_uri": "https://localhost:8080/"
        }
      },
      "execution_count": 59,
      "outputs": [
        {
          "output_type": "stream",
          "name": "stdout",
          "text": [
            "The sum is: 11\n"
          ]
        }
      ]
    },
    {
      "cell_type": "code",
      "source": [],
      "metadata": {
        "id": "OGvYHy-DZO-n"
      },
      "execution_count": null,
      "outputs": []
    }
  ]
}