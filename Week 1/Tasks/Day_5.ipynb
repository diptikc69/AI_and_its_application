{
  "nbformat": 4,
  "nbformat_minor": 0,
  "metadata": {
    "colab": {
      "provenance": []
    },
    "kernelspec": {
      "name": "python3",
      "display_name": "Python 3"
    },
    "language_info": {
      "name": "python"
    }
  },
  "cells": [
    {
      "cell_type": "markdown",
      "source": [
        "#**NUMPY BASICS**"
      ],
      "metadata": {
        "id": "_B_cBRKmWFun"
      }
    },
    {
      "cell_type": "markdown",
      "source": [
        "#CREATING A NUMPY ARRAY"
      ],
      "metadata": {
        "id": "2KruAh5TWNO8"
      }
    },
    {
      "cell_type": "code",
      "source": [
        "import numpy as np\n",
        "\n",
        "# a = [ ]\n",
        "a = [2,5,8,9]\n",
        "# array = np.array(a)\n",
        "array = np.array(5)\n",
        "print(array)\n"
      ],
      "metadata": {
        "colab": {
          "base_uri": "https://localhost:8080/"
        },
        "id": "USSWq9RqWEH1",
        "outputId": "67d7a370-a31d-43d6-ba51-b77d467bc24d"
      },
      "execution_count": null,
      "outputs": [
        {
          "output_type": "stream",
          "name": "stdout",
          "text": [
            "5\n"
          ]
        }
      ]
    },
    {
      "cell_type": "code",
      "source": [
        "one_d_numpy_array = np.array([2,5,8,9])\n",
        "print(one_d_numpy_array)"
      ],
      "metadata": {
        "colab": {
          "base_uri": "https://localhost:8080/"
        },
        "id": "1xNwHfLWXhwz",
        "outputId": "7ae2e3bf-2f48-43be-dbf8-e63340060235"
      },
      "execution_count": null,
      "outputs": [
        {
          "output_type": "stream",
          "name": "stdout",
          "text": [
            "[2 5 8 9]\n"
          ]
        }
      ]
    },
    {
      "cell_type": "code",
      "source": [
        "zero_d_numpy_array = np.array(5)\n",
        "print(zero_d_numpy_array)"
      ],
      "metadata": {
        "colab": {
          "base_uri": "https://localhost:8080/"
        },
        "id": "9F3VhQ3RYomY",
        "outputId": "b6673574-c350-418c-e15e-78cc35511769"
      },
      "execution_count": null,
      "outputs": [
        {
          "output_type": "stream",
          "name": "stdout",
          "text": [
            "5\n"
          ]
        }
      ]
    },
    {
      "cell_type": "code",
      "source": [
        "#Code to find the dimension of defined array\n",
        "print(one_d_numpy_array.ndim)\n",
        "print(zero_d_numpy_array.ndim)"
      ],
      "metadata": {
        "colab": {
          "base_uri": "https://localhost:8080/"
        },
        "id": "RKHUtB3YY6U8",
        "outputId": "6eaa8e92-b460-4a9c-aa91-82eaeb50511f"
      },
      "execution_count": null,
      "outputs": [
        {
          "output_type": "stream",
          "name": "stdout",
          "text": [
            "1\n",
            "0\n"
          ]
        }
      ]
    },
    {
      "cell_type": "code",
      "source": [
        "arr = [[1,2,3,4], [4,5,6,7]]\n",
        "two_dimensional_array = np.array(arr)\n",
        "print(two_dimensional_array.ndim)"
      ],
      "metadata": {
        "colab": {
          "base_uri": "https://localhost:8080/"
        },
        "id": "LDutMajLY-h8",
        "outputId": "f8960beb-db9a-4103-ec11-1dd8bce7cf8b"
      },
      "execution_count": null,
      "outputs": [
        {
          "output_type": "stream",
          "name": "stdout",
          "text": [
            "2\n"
          ]
        }
      ]
    },
    {
      "cell_type": "code",
      "source": [
        "arr = [[1,2,3],[3,4,5],[5,6,7]]\n",
        "three_dimensional_array = np.array(arr)\n",
        "print(three_dimensional_array)"
      ],
      "metadata": {
        "colab": {
          "base_uri": "https://localhost:8080/"
        },
        "id": "2vrh5gPmZ2TC",
        "outputId": "75b4528a-6b12-49a6-b845-42958e566856"
      },
      "execution_count": null,
      "outputs": [
        {
          "output_type": "stream",
          "name": "stdout",
          "text": [
            "[[1 2 3]\n",
            " [3 4 5]\n",
            " [5 6 7]]\n"
          ]
        }
      ]
    },
    {
      "cell_type": "code",
      "source": [
        "#Creating array and its attributes\n",
        "a = [[2,4,6,8],[3,5,7,9]]   #Creating a list named \"a\"\n",
        "arr = np.array(a)       #Converting the list into numpy array\n",
        "print(arr)\n",
        "print(arr.shape)     #Creating the shape of array e.g: 2*4 = 2 rows, 4 columns\n",
        "print(arr.ndim)       #Printing array dimension\n",
        "print(arr.dtype)      #array data types\n",
        "print(arr.size)\n",
        "print(arr.itemsize)"
      ],
      "metadata": {
        "colab": {
          "base_uri": "https://localhost:8080/"
        },
        "id": "tmdT7frOaObx",
        "outputId": "71a33c5c-6622-41ce-ce68-a2b24628ca18"
      },
      "execution_count": null,
      "outputs": [
        {
          "output_type": "stream",
          "name": "stdout",
          "text": [
            "[[2 4 6 8]\n",
            " [3 5 7 9]]\n",
            "(2, 4)\n",
            "2\n",
            "int64\n",
            "8\n",
            "8\n"
          ]
        }
      ]
    },
    {
      "cell_type": "markdown",
      "source": [
        "#ACCESSING NUMPY ARRAY INDEXES"
      ],
      "metadata": {
        "id": "gRO0MXIfi87h"
      }
    },
    {
      "cell_type": "code",
      "source": [
        "arr = np.array([3,5,7,9,11])\n",
        "print(arr[0])       #Printing first index array\n",
        "print(arr[1:3])     #Slicing array\n",
        "print(arr[2]+arr[1])"
      ],
      "metadata": {
        "colab": {
          "base_uri": "https://localhost:8080/"
        },
        "id": "R7-uUaoUaqaP",
        "outputId": "f551434e-0472-47b1-bf73-3ecb41ef0950"
      },
      "execution_count": null,
      "outputs": [
        {
          "output_type": "stream",
          "name": "stdout",
          "text": [
            "3\n",
            "[5 7]\n",
            "12\n"
          ]
        }
      ]
    },
    {
      "cell_type": "code",
      "source": [
        "arr_2d = np.array([[1,2,3,4],[6,7,8,9]])\n",
        "print(arr_2d[1,1])"
      ],
      "metadata": {
        "colab": {
          "base_uri": "https://localhost:8080/"
        },
        "id": "2UOfeGxMnXR2",
        "outputId": "99404fc6-b452-40cd-fc66-81760d96f234"
      },
      "execution_count": null,
      "outputs": [
        {
          "output_type": "stream",
          "name": "stdout",
          "text": [
            "7\n"
          ]
        }
      ]
    },
    {
      "cell_type": "code",
      "source": [
        "arr_3d = np.array([[[1,2,3],[3,2,1]]\n",
        "                   ,[[4,5,6],[7,8,9]]])\n",
        "print(arr_3d[1,1,1])"
      ],
      "metadata": {
        "colab": {
          "base_uri": "https://localhost:8080/"
        },
        "id": "3UNsyrVanisR",
        "outputId": "6a96f341-a08e-42f2-bb20-7c56b261ce69"
      },
      "execution_count": null,
      "outputs": [
        {
          "output_type": "stream",
          "name": "stdout",
          "text": [
            "8\n"
          ]
        }
      ]
    },
    {
      "cell_type": "markdown",
      "source": [
        "#NEGATIVING INDEXING"
      ],
      "metadata": {
        "id": "CfixHXO6rWpr"
      }
    },
    {
      "cell_type": "code",
      "source": [
        "arr_3d = np.array([[[1,2,3],[3,2,1]]\n",
        "                   ,[[4,5,6],[7,8,9]]])\n",
        "print(arr_3d[1,1,-1])"
      ],
      "metadata": {
        "colab": {
          "base_uri": "https://localhost:8080/"
        },
        "id": "CnLbMBcEomk2",
        "outputId": "75a26bd8-ad29-4d88-a392-85ecda67b071"
      },
      "execution_count": null,
      "outputs": [
        {
          "output_type": "stream",
          "name": "stdout",
          "text": [
            "9\n"
          ]
        }
      ]
    },
    {
      "cell_type": "markdown",
      "source": [
        "#SLICING IN NUMPY_ARRAY"
      ],
      "metadata": {
        "id": "pnxBkrLTra0t"
      }
    },
    {
      "cell_type": "code",
      "source": [
        "arr = np.array([1,2,3,4,5,6,7,8,9])\n",
        "print(arr[1:5:2])"
      ],
      "metadata": {
        "colab": {
          "base_uri": "https://localhost:8080/"
        },
        "id": "fUNIWemvrZXA",
        "outputId": "6fde6a37-e379-47d0-ae7a-aa9b0b9cf3f7"
      },
      "execution_count": null,
      "outputs": [
        {
          "output_type": "stream",
          "name": "stdout",
          "text": [
            "[2 4]\n"
          ]
        }
      ]
    },
    {
      "cell_type": "code",
      "source": [
        "arr = np.array([[2,4,6,8,11],[1,3,5,7,9]])\n",
        "print(arr[0, 1:-2])"
      ],
      "metadata": {
        "colab": {
          "base_uri": "https://localhost:8080/"
        },
        "id": "yxWHVN9Jroms",
        "outputId": "95b65d79-f2cc-4181-ae3a-5d20907a1d25"
      },
      "execution_count": null,
      "outputs": [
        {
          "output_type": "stream",
          "name": "stdout",
          "text": [
            "[4 6]\n"
          ]
        }
      ]
    },
    {
      "cell_type": "markdown",
      "source": [
        "#HOMEWORK"
      ],
      "metadata": {
        "id": "Vm45VB-su9R_"
      }
    },
    {
      "cell_type": "markdown",
      "source": [
        "#Create a numpy array from the list [7,14,21,28]. Print the array"
      ],
      "metadata": {
        "id": "9X69qtZRvh5c"
      }
    },
    {
      "cell_type": "code",
      "source": [
        "arr = np.array([7,14,21,28])\n",
        "print(arr)"
      ],
      "metadata": {
        "colab": {
          "base_uri": "https://localhost:8080/"
        },
        "id": "KubMixlktR_k",
        "outputId": "479badc4-2b67-47a0-a46d-bcd967131458"
      },
      "execution_count": null,
      "outputs": [
        {
          "output_type": "stream",
          "name": "stdout",
          "text": [
            "[ 7 14 21 28]\n"
          ]
        }
      ]
    },
    {
      "cell_type": "markdown",
      "source": [
        "#Create a 2D Numpy array[[5,10,15],[20,25,30]]. Print its shape and number of dimensions using array.ndim."
      ],
      "metadata": {
        "id": "JDE2I8KwvlD8"
      }
    },
    {
      "cell_type": "code",
      "source": [
        "arr = np.array([[5,10,15],[20,25,30]])\n",
        "print(arr.ndim)\n",
        "print(arr.shape)"
      ],
      "metadata": {
        "colab": {
          "base_uri": "https://localhost:8080/"
        },
        "id": "S2ArhewQvZVM",
        "outputId": "a4cce45f-efa2-404b-f713-705959695e5e"
      },
      "execution_count": null,
      "outputs": [
        {
          "output_type": "stream",
          "name": "stdout",
          "text": [
            "2\n",
            "(2, 3)\n"
          ]
        }
      ]
    },
    {
      "cell_type": "code",
      "source": [
        "arr = np.zeros((2,3))\n",
        "arr1 = np.arange(0,12)\n",
        "print(arr)\n",
        "print(arr1[0:13:3])"
      ],
      "metadata": {
        "colab": {
          "base_uri": "https://localhost:8080/"
        },
        "id": "Ahg6vUm3vw_L",
        "outputId": "9ea8f254-3b7d-4048-afc6-69d564bb5a76"
      },
      "execution_count": null,
      "outputs": [
        {
          "output_type": "stream",
          "name": "stdout",
          "text": [
            "[[0. 0. 0.]\n",
            " [0. 0. 0.]]\n",
            "[0 3 6 9]\n"
          ]
        }
      ]
    },
    {
      "cell_type": "code",
      "source": [
        "arr = np.array([2,4,6,8])\n",
        "mul = arr * 3\n",
        "print(mul)"
      ],
      "metadata": {
        "colab": {
          "base_uri": "https://localhost:8080/"
        },
        "id": "y7BS1-xev9q7",
        "outputId": "2a4fcb5c-0b54-45c2-f655-8c8fb70c21c2"
      },
      "execution_count": null,
      "outputs": [
        {
          "output_type": "stream",
          "name": "stdout",
          "text": [
            "[ 6 12 18 24]\n"
          ]
        }
      ]
    },
    {
      "cell_type": "code",
      "source": [
        "arr = np.array([1,3,5,7,9,11])\n",
        "print(arr[2])\n",
        "print(arr[1:3])"
      ],
      "metadata": {
        "colab": {
          "base_uri": "https://localhost:8080/"
        },
        "id": "bna9J4fswtXH",
        "outputId": "33ec7102-0cd4-4c37-e989-9fa52a735327"
      },
      "execution_count": null,
      "outputs": [
        {
          "output_type": "stream",
          "name": "stdout",
          "text": [
            "5\n",
            "[3 5]\n"
          ]
        }
      ]
    },
    {
      "cell_type": "code",
      "source": [],
      "metadata": {
        "id": "Kpc6dyn-w6YN"
      },
      "execution_count": null,
      "outputs": []
    }
  ]
}