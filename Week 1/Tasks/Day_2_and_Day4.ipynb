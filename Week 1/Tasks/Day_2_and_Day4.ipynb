{
  "nbformat": 4,
  "nbformat_minor": 0,
  "metadata": {
    "colab": {
      "provenance": []
    },
    "kernelspec": {
      "name": "python3",
      "display_name": "Python 3"
    },
    "language_info": {
      "name": "python"
    }
  },
  "cells": [
    {
      "cell_type": "markdown",
      "source": [
        "#Import math and calculate sine of 30 drgrees using mat.sin(math.radius(30)."
      ],
      "metadata": {
        "id": "ak4oBlNb7qDk"
      }
    },
    {
      "cell_type": "code",
      "execution_count": null,
      "metadata": {
        "colab": {
          "base_uri": "https://localhost:8080/"
        },
        "id": "tv9Uo6r-7lKH",
        "outputId": "0eccb8c7-394c-4673-c4ae-23150ed8dd13"
      },
      "outputs": [
        {
          "output_type": "stream",
          "name": "stdout",
          "text": [
            "0.49999999999999994\n"
          ]
        }
      ],
      "source": [
        "import math as m\n",
        "\n",
        "sine = 30\n",
        "angle_radians = m.radians(sine)\n",
        "sin_value = m.sin(angle_radians)\n",
        "print(sin_value)"
      ]
    },
    {
      "cell_type": "markdown",
      "source": [
        "#Import random as rng and generate a random integer between 50-75"
      ],
      "metadata": {
        "id": "sZErwcpf-I20"
      }
    },
    {
      "cell_type": "code",
      "source": [
        "import random as rng\n",
        "print (rng.randint(50,75))"
      ],
      "metadata": {
        "colab": {
          "base_uri": "https://localhost:8080/"
        },
        "id": "2Xh6B8ah9BJC",
        "outputId": "be6ebd75-aed3-4c7b-c7b2-3e9581833d01"
      },
      "execution_count": null,
      "outputs": [
        {
          "output_type": "stream",
          "name": "stdout",
          "text": [
            "62\n"
          ]
        }
      ]
    },
    {
      "cell_type": "markdown",
      "source": [
        "#Import choice from random pick from fruits list [\"Mango\", \"Apple\", \"Grape\"]"
      ],
      "metadata": {
        "id": "ky-PwB1F-jYC"
      }
    },
    {
      "cell_type": "code",
      "source": [
        "from random import choice\n",
        "\n",
        "fruits = [\"Mango\", \"Apple\", \"Grape\"]\n",
        "random_fruit = choice(fruits)\n",
        "\n",
        "print(random_fruit)\n",
        "\n",
        "\n",
        "\n",
        "\n"
      ],
      "metadata": {
        "colab": {
          "base_uri": "https://localhost:8080/"
        },
        "id": "BYgaCv_Q-gik",
        "outputId": "a5ab65be-4e03-4c5e-c880-eb1abbd5f856"
      },
      "execution_count": null,
      "outputs": [
        {
          "output_type": "stream",
          "name": "stdout",
          "text": [
            "Mango\n"
          ]
        }
      ]
    },
    {
      "cell_type": "markdown",
      "source": [
        "#Create calc.py with square function, import and print square of 8."
      ],
      "metadata": {
        "id": "YEHeFHAO_et2"
      }
    },
    {
      "cell_type": "code",
      "source": [
        "%%writefile calc.py\n",
        "import math as m\n",
        "def square(num) :\n",
        "  return num * num"
      ],
      "metadata": {
        "colab": {
          "base_uri": "https://localhost:8080/"
        },
        "id": "4eqEDq6H_Rtg",
        "outputId": "fdd4edff-2bac-4036-d06a-b96420ac83f6"
      },
      "execution_count": null,
      "outputs": [
        {
          "output_type": "stream",
          "name": "stdout",
          "text": [
            "Writing calc.py\n"
          ]
        }
      ]
    },
    {
      "cell_type": "code",
      "source": [
        "#main.py\n",
        "from calc import square\n",
        "print(\"The square of 8 is :\",square(8))\n"
      ],
      "metadata": {
        "colab": {
          "base_uri": "https://localhost:8080/"
        },
        "id": "tU7ER4--AAxP",
        "outputId": "12d1b8a0-d83b-4312-d80a-0b8bdfe4542b"
      },
      "execution_count": null,
      "outputs": [
        {
          "output_type": "stream",
          "name": "stdout",
          "text": [
            "The square of 8 is : 64\n"
          ]
        }
      ]
    },
    {
      "cell_type": "code",
      "source": [],
      "metadata": {
        "id": "Fa8K3W6SAT0V"
      },
      "execution_count": null,
      "outputs": []
    }
  ]
}