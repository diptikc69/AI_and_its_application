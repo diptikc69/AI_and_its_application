{
  "nbformat": 4,
  "nbformat_minor": 0,
  "metadata": {
    "colab": {
      "provenance": []
    },
    "kernelspec": {
      "name": "python3",
      "display_name": "Python 3"
    },
    "language_info": {
      "name": "python"
    }
  },
  "cells": [
    {
      "cell_type": "code",
      "execution_count": null,
      "metadata": {
        "colab": {
          "base_uri": "https://localhost:8080/"
        },
        "id": "xn9UEcvdBRm1",
        "outputId": "12292f01-c98d-4896-f17a-6325cd5752f8"
      },
      "outputs": [
        {
          "output_type": "stream",
          "name": "stdout",
          "text": [
            "     Name  Age       Age Group\n",
            "0   Arpan    8           Child\n",
            "1  Rupesh   17        Teenager\n",
            "2  Sabina   25           Adult\n",
            "3    Dipa   64  Senior Citizen\n"
          ]
        }
      ],
      "source": [
        "import pandas as pd\n",
        "\n",
        "# Read the table from HTML\n",
        "df_list = pd.read_html(\"age_data.html\")\n",
        "df = df_list[0]  # First table\n",
        "\n",
        "# Function to determine age group\n",
        "def age_group(age):\n",
        "    if age <= 0:\n",
        "        return \"Invalid\"\n",
        "    elif age < 10:\n",
        "        return \"Child\"\n",
        "    elif age < 18:\n",
        "        return \"Teenager\"\n",
        "    elif age <= 59:\n",
        "        return \"Adult\"\n",
        "    else:\n",
        "        return \"Senior Citizen\"\n",
        "\n",
        "# Add age group to DataFrame\n",
        "df[\"Age Group\"] = df[\"Age\"].apply(age_group)\n",
        "\n",
        "# Print result\n",
        "print(df)\n"
      ]
    },
    {
      "cell_type": "code",
      "source": [],
      "metadata": {
        "id": "HJROb11cBpY6"
      },
      "execution_count": null,
      "outputs": []
    }
  ]
}