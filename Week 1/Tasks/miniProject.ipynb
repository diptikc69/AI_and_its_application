{
  "cells": [
    {
      "cell_type": "markdown",
      "metadata": {
        "id": "hgAAHSuIsBhN"
      },
      "source": [
        "#**AGE GROUP CHECKER**"
      ]
    },
    {
      "cell_type": "code",
      "execution_count": null,
      "metadata": {
        "colab": {
          "base_uri": "https://localhost:8080/"
        },
        "id": "qN3kFzvUsJ4m",
        "outputId": "4f23e5c0-6455-4d7b-fc72-982f4c3b4111"
      },
      "outputs": [
        {
          "metadata": {
            "tags": null
          },
          "name": "stdout",
          "output_type": "stream",
          "text": [
            "\n",
            "\n",
            "\tAGE GROUP CHECKER\n",
            "\n",
            "Hey, Sajina welcome to our age group checker program.\n"
          ]
        }
      ],
      "source": [
        "# Pahila function banako jasle age arguement linxa ani check garxa kun group ko vanera\n",
        "\n",
        "\n",
        "def age_group(age):\n",
        "    if age == 0 or age < 0:\n",
        "        print(\"Please enter valid age\")\n",
        "    elif age < 10:\n",
        "        print(\"You are a child\")\n",
        "    elif age < 18:\n",
        "        print(\"You are a teenager\")\n",
        "    elif age <= 59:\n",
        "        print(\"You are an adult\")\n",
        "    elif age > 59:\n",
        "        print(\"You are a senior citizen\")\n",
        "\n",
        "\n",
        "print(\"\\n\\n\\tAGE GROUP CHECKER\\n\")\n",
        "# naam input liyo\n",
        "name = input(\"Please enter your name: \")\n",
        "print(f\"Hey, {name} welcome to our age group checker program.\")\n",
        "# print(\"Hey, {} welcome to our age group checker program.format(name)\")\n",
        "\n",
        "# euta while loop vitra xiryo jaha try and except case haru xa\n",
        "while True:\n",
        "    try:\n",
        "        # age input liera function lai age pass garyo ra edi age valid xa vaney output dinxa\n",
        "        age = int(input(\"Please enter your age: \"))\n",
        "        age_group(age)\n",
        "\n",
        "    # if age ko thau ma kunai character or aru data type diyo vane error consider garieko xa\n",
        "    except ValueError:\n",
        "        print(\"Please enter valid age\")\n",
        "\n",
        "    # feri run garne vanera sodhxa if yes then run hunxa kinaki loop ma condition true nai hunxa tara no vanyo vane loop break hunxa\n",
        "    b = input(\"Do you want to try again?(answer in yes or no)\")\n",
        "    if b.lower() != \"yes\":\n",
        "        break\n",
        "print(\"\\nThankyou\")"
      ]
    },
    {
      "cell_type": "code",
      "execution_count": null,
      "metadata": {
        "id": "RZyr8R6MtiBt"
      },
      "outputs": [],
      "source": []
    }
  ],
  "metadata": {
    "colab": {
      "provenance": []
    },
    "kernelspec": {
      "display_name": "Python 3",
      "name": "python3"
    },
    "language_info": {
      "name": "python"
    }
  },
  "nbformat": 4,
  "nbformat_minor": 0
}