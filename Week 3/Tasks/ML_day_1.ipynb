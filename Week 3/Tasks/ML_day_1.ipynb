{
  "nbformat": 4,
  "nbformat_minor": 0,
  "metadata": {
    "colab": {
      "provenance": []
    },
    "kernelspec": {
      "name": "python3",
      "display_name": "Python 3"
    },
    "language_info": {
      "name": "python"
    }
  },
  "cells": [
    {
      "cell_type": "markdown",
      "source": [
        "#Traditional Programming Vs Machine Learning"
      ],
      "metadata": {
        "id": "Q_rI8QCcBE9e"
      }
    },
    {
      "cell_type": "code",
      "source": [
        "#Traditional Programming: You give the rules and data and get output\n",
        "#Machine Learning: You give the data and output and ML will find the rules\n",
        "\n",
        "def is_even(num) :\n",
        "  return num%2 == 0\n",
        "\n",
        "print(is_even(2))\n",
        "\n",
        "#ML Thinking(Pseudocode)\n",
        "# Data : [2,4,6,8,10]\n",
        "# Data : [1,3,5,7,9]\n",
        "\n",
        "# Goal : Let the ML model find patterns and classify new numbers\n",
        "\n",
        "\n",
        "\n"
      ],
      "metadata": {
        "colab": {
          "base_uri": "https://localhost:8080/"
        },
        "id": "Wqhk8inEBDS9",
        "outputId": "b1220bdb-3f6e-49ac-c80f-c2145bf1f93b"
      },
      "execution_count": null,
      "outputs": [
        {
          "output_type": "stream",
          "name": "stdout",
          "text": [
            "True\n"
          ]
        }
      ]
    },
    {
      "cell_type": "markdown",
      "source": [
        "#Predicting Odd vs Even using decision Tree"
      ],
      "metadata": {
        "id": "AgPxBclsE1u4"
      }
    },
    {
      "cell_type": "code",
      "source": [
        "#Importing Libraries\n",
        "import pandas as pd\n",
        "from sklearn.tree import DecisionTreeClassifier\n",
        "\n",
        "#Preparing Data\n",
        "X = pd.DataFrame({'number':[1,2,3,4,5,6,7,8,9,10]})  #Features\n",
        "y =['odd', 'even', 'odd', 'even', 'odd','even',\"odd\",'even','odd','odd']  #Target\n",
        "\n",
        "#Creating Model\n",
        "model = DecisionTreeClassifier()\n",
        "\n",
        "#Training Model\n",
        "model.fit(X,y)\n",
        "\n",
        "#Making Predicitions(Inferencing)\n",
        "print(model.predict([[5]]))\n",
        "\n"
      ],
      "metadata": {
        "colab": {
          "base_uri": "https://localhost:8080/"
        },
        "id": "x9JegfJTCx05",
        "outputId": "edd6400f-9402-4567-d68a-44ce1fba32f0"
      },
      "execution_count": null,
      "outputs": [
        {
          "output_type": "stream",
          "name": "stdout",
          "text": [
            "['odd']\n"
          ]
        },
        {
          "output_type": "stream",
          "name": "stderr",
          "text": [
            "/usr/local/lib/python3.11/dist-packages/sklearn/utils/validation.py:2739: UserWarning: X does not have valid feature names, but DecisionTreeClassifier was fitted with feature names\n",
            "  warnings.warn(\n"
          ]
        }
      ]
    },
    {
      "cell_type": "markdown",
      "source": [
        "#Can the machine generalize well with few data points ? Is this a good use-case of ML?  Try changing the numbers and retrain the model. Train with negative and large numbers."
      ],
      "metadata": {
        "id": "Lkjv8neuISkt"
      }
    },
    {
      "cell_type": "code",
      "source": [
        "import pandas as pd\n",
        "from sklearn.tree import DecisionTreeClassifier\n",
        "\n",
        "# Create dataset\n",
        "X = pd.DataFrame({'number': range(1, 1001)})  # Numbers 1 to 1000\n",
        "y = ['odd' if num % 2 != 0 else 'even' for num in X['number']]  # Labels based on parity\n",
        "\n",
        "# Create and train model\n",
        "model = DecisionTreeClassifier()\n",
        "model.fit(X, y)\n",
        "\n",
        "# Test predictions\n",
        "print(model.predict([[5]]))    # Should print ['odd']\n",
        "print(model.predict([[100]]))  # Should print ['even']\n",
        "print(model.predict([[999]]))  # Should print ['odd']\n"
      ],
      "metadata": {
        "colab": {
          "base_uri": "https://localhost:8080/"
        },
        "id": "dtQXvpGyGzqZ",
        "outputId": "abec7596-52df-4121-bda7-b227980977e3"
      },
      "execution_count": null,
      "outputs": [
        {
          "output_type": "stream",
          "name": "stdout",
          "text": [
            "['odd']\n",
            "['even']\n",
            "['odd']\n"
          ]
        },
        {
          "output_type": "stream",
          "name": "stderr",
          "text": [
            "/usr/local/lib/python3.11/dist-packages/sklearn/utils/validation.py:2739: UserWarning: X does not have valid feature names, but DecisionTreeClassifier was fitted with feature names\n",
            "  warnings.warn(\n",
            "/usr/local/lib/python3.11/dist-packages/sklearn/utils/validation.py:2739: UserWarning: X does not have valid feature names, but DecisionTreeClassifier was fitted with feature names\n",
            "  warnings.warn(\n",
            "/usr/local/lib/python3.11/dist-packages/sklearn/utils/validation.py:2739: UserWarning: X does not have valid feature names, but DecisionTreeClassifier was fitted with feature names\n",
            "  warnings.warn(\n"
          ]
        }
      ]
    },
    {
      "cell_type": "code",
      "source": [
        "import pandas as pd\n",
        "\n",
        "df = pd.read_csv(\"temperature_level_data.csv\")\n",
        "\n",
        "label = df[[\"temperature\"]]\n",
        "target = df[\"level\"]\n",
        "\n",
        "\n",
        "print(\"Label (temperature):\")\n",
        "print(label)\n",
        "\n",
        "print(\"\\nTarget (level):\")\n",
        "print(target)"
      ],
      "metadata": {
        "id": "i8YPkyt3SJf0",
        "colab": {
          "base_uri": "https://localhost:8080/"
        },
        "outputId": "4709a353-75b8-4228-892e-d45aa35aeced"
      },
      "execution_count": null,
      "outputs": [
        {
          "output_type": "stream",
          "name": "stdout",
          "text": [
            "Label (temperature):\n",
            "   temperature\n",
            "0         22.5\n",
            "1         23.0\n",
            "2         21.8\n",
            "3         24.1\n",
            "4         25.3\n",
            "\n",
            "Target (level):\n",
            "0    5\n",
            "1    6\n",
            "2    4\n",
            "3    7\n",
            "4    8\n",
            "Name: level, dtype: int64\n"
          ]
        }
      ]
    },
    {
      "cell_type": "code",
      "source": [
        "df = pd.read_csv(\"/content/weight_labels.csv\")\n",
        "\n",
        "label = df[[\"weight\"]]\n",
        "target = df[\"label\"]\n",
        "\n",
        "\n",
        "print(\"Label (temperature):\")\n",
        "print(label)\n",
        "\n",
        "print(\"\\nTarget (label):\")\n",
        "print(target)"
      ],
      "metadata": {
        "colab": {
          "base_uri": "https://localhost:8080/"
        },
        "id": "3lFVP0zU67__",
        "outputId": "bc39383a-02d8-435c-dc3d-eba186253901"
      },
      "execution_count": null,
      "outputs": [
        {
          "output_type": "stream",
          "name": "stdout",
          "text": [
            "Label (temperature):\n",
            "         weight\n",
            "0     77.450712\n",
            "1     67.926035\n",
            "2     79.715328\n",
            "3     92.845448\n",
            "4     66.487699\n",
            "...         ...\n",
            "9995  89.516531\n",
            "9996  40.024825\n",
            "9997  59.420249\n",
            "9998  77.436484\n",
            "9999  79.665827\n",
            "\n",
            "[10000 rows x 1 columns]\n",
            "\n",
            "Target (label):\n",
            "0            normal\n",
            "1            normal\n",
            "2            normal\n",
            "3        overweight\n",
            "4            normal\n",
            "           ...     \n",
            "9995     overweight\n",
            "9996    underweight\n",
            "9997         normal\n",
            "9998         normal\n",
            "9999         normal\n",
            "Name: label, Length: 10000, dtype: object\n"
          ]
        }
      ]
    },
    {
      "cell_type": "code",
      "source": [
        "import pandas as pd\n",
        "from sklearn.tree import DecisionTreeClassifier\n",
        "\n",
        "df = pd.read_csv(\"student_learning_behavior.csv\")\n",
        "\n",
        "# Select label (features) and target\n",
        "label = df[[\"study_hours\", \"sleep_hours\", \"attendance_rate\", \"social_media_time\", \"practice_tests\"]]\n",
        "target = df[\"result\"]\n",
        "\n",
        "# Display label and target\n",
        "print(\"Label (Features):\")\n",
        "print(label)\n",
        "\n",
        "print(\"\\nTarget (Result):\")\n",
        "print(target)\n",
        "\n",
        "# Initialize and train the Decision Tree model\n",
        "model = DecisionTreeClassifier()\n",
        "model.fit(label, target)\n",
        "\n",
        "# Predict using the trained model\n",
        "predictions = model.predict(label)\n",
        "\n",
        "# Show predictions\n",
        "print(\"\\nPredictions:\")\n",
        "print(predictions)\n"
      ],
      "metadata": {
        "colab": {
          "base_uri": "https://localhost:8080/"
        },
        "id": "G_uMFBYU7JOA",
        "outputId": "c86071e0-c12b-443e-f9e4-0221e90854ba"
      },
      "execution_count": null,
      "outputs": [
        {
          "output_type": "stream",
          "name": "stdout",
          "text": [
            "Label (Features):\n",
            "   study_hours  sleep_hours  attendance_rate  social_media_time  \\\n",
            "0          4.5            7               90                2.0   \n",
            "1          2.0            5               60                4.5   \n",
            "2          6.0            8               95                1.5   \n",
            "3          3.0            6               75                3.0   \n",
            "4          1.5            6               50                5.0   \n",
            "5          5.5            7               85                2.0   \n",
            "6          3.5            6               70                2.5   \n",
            "7          2.5            5               65                4.0   \n",
            "8          4.0            7               80                1.0   \n",
            "9          1.0            4               40                5.5   \n",
            "\n",
            "   practice_tests  \n",
            "0               5  \n",
            "1               1  \n",
            "2               7  \n",
            "3               3  \n",
            "4               0  \n",
            "5               6  \n",
            "6               4  \n",
            "7               2  \n",
            "8               6  \n",
            "9               0  \n",
            "\n",
            "Target (Result):\n",
            "0    Pass\n",
            "1    Fail\n",
            "2    Pass\n",
            "3    Pass\n",
            "4    Fail\n",
            "5    Pass\n",
            "6    Pass\n",
            "7    Pass\n",
            "8    Pass\n",
            "9    Fail\n",
            "Name: result, dtype: object\n",
            "\n",
            "Predictions:\n",
            "['Pass' 'Fail' 'Pass' 'Pass' 'Fail' 'Pass' 'Pass' 'Pass' 'Pass' 'Fail']\n"
          ]
        }
      ]
    },
    {
      "cell_type": "code",
      "source": [],
      "metadata": {
        "id": "ijG92TcD8L7f"
      },
      "execution_count": null,
      "outputs": []
    }
  ]
}